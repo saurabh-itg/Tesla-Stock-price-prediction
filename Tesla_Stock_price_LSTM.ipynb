{
 "cells": [
  {
   "cell_type": "code",
   "execution_count": 117,
   "id": "5be323c5",
   "metadata": {},
   "outputs": [],
   "source": [
    "#import required libraries\n",
    "import seaborn as sns\n",
    "import pandas as pd\n",
    "import numpy as np\n",
    "import matplotlib.pyplot as plt\n",
    "from sklearn.model_selection import train_test_split\n",
    "from sklearn.preprocessing import StandardScaler\n",
    "from tensorflow.keras.models import Sequential\n",
    "from tensorflow.keras.layers import LSTM, Dense\n"
   ]
  },
  {
   "cell_type": "code",
   "execution_count": 118,
   "id": "2815c08d",
   "metadata": {},
   "outputs": [],
   "source": [
    "#import the data\n",
    "df=pd.read_csv(\"TSLA.csv\")"
   ]
  },
  {
   "cell_type": "code",
   "execution_count": 119,
   "id": "f0cedaeb",
   "metadata": {},
   "outputs": [
    {
     "data": {
      "text/html": [
       "<div>\n",
       "<style scoped>\n",
       "    .dataframe tbody tr th:only-of-type {\n",
       "        vertical-align: middle;\n",
       "    }\n",
       "\n",
       "    .dataframe tbody tr th {\n",
       "        vertical-align: top;\n",
       "    }\n",
       "\n",
       "    .dataframe thead th {\n",
       "        text-align: right;\n",
       "    }\n",
       "</style>\n",
       "<table border=\"1\" class=\"dataframe\">\n",
       "  <thead>\n",
       "    <tr style=\"text-align: right;\">\n",
       "      <th></th>\n",
       "      <th>Date</th>\n",
       "      <th>Open</th>\n",
       "      <th>High</th>\n",
       "      <th>Low</th>\n",
       "      <th>Close</th>\n",
       "      <th>Adj Close</th>\n",
       "      <th>Volume</th>\n",
       "    </tr>\n",
       "  </thead>\n",
       "  <tbody>\n",
       "    <tr>\n",
       "      <th>0</th>\n",
       "      <td>2010-06-29</td>\n",
       "      <td>19.000000</td>\n",
       "      <td>25.000000</td>\n",
       "      <td>17.540001</td>\n",
       "      <td>23.889999</td>\n",
       "      <td>23.889999</td>\n",
       "      <td>18766300</td>\n",
       "    </tr>\n",
       "    <tr>\n",
       "      <th>1</th>\n",
       "      <td>2010-06-30</td>\n",
       "      <td>25.790001</td>\n",
       "      <td>30.420000</td>\n",
       "      <td>23.299999</td>\n",
       "      <td>23.830000</td>\n",
       "      <td>23.830000</td>\n",
       "      <td>17187100</td>\n",
       "    </tr>\n",
       "    <tr>\n",
       "      <th>2</th>\n",
       "      <td>2010-07-01</td>\n",
       "      <td>25.000000</td>\n",
       "      <td>25.920000</td>\n",
       "      <td>20.270000</td>\n",
       "      <td>21.959999</td>\n",
       "      <td>21.959999</td>\n",
       "      <td>8218800</td>\n",
       "    </tr>\n",
       "    <tr>\n",
       "      <th>3</th>\n",
       "      <td>2010-07-02</td>\n",
       "      <td>23.000000</td>\n",
       "      <td>23.100000</td>\n",
       "      <td>18.709999</td>\n",
       "      <td>19.200001</td>\n",
       "      <td>19.200001</td>\n",
       "      <td>5139800</td>\n",
       "    </tr>\n",
       "    <tr>\n",
       "      <th>4</th>\n",
       "      <td>2010-07-06</td>\n",
       "      <td>20.000000</td>\n",
       "      <td>20.000000</td>\n",
       "      <td>15.830000</td>\n",
       "      <td>16.110001</td>\n",
       "      <td>16.110001</td>\n",
       "      <td>6866900</td>\n",
       "    </tr>\n",
       "    <tr>\n",
       "      <th>...</th>\n",
       "      <td>...</td>\n",
       "      <td>...</td>\n",
       "      <td>...</td>\n",
       "      <td>...</td>\n",
       "      <td>...</td>\n",
       "      <td>...</td>\n",
       "      <td>...</td>\n",
       "    </tr>\n",
       "    <tr>\n",
       "      <th>2411</th>\n",
       "      <td>2020-01-28</td>\n",
       "      <td>568.489990</td>\n",
       "      <td>576.809998</td>\n",
       "      <td>558.080017</td>\n",
       "      <td>566.900024</td>\n",
       "      <td>566.900024</td>\n",
       "      <td>11788500</td>\n",
       "    </tr>\n",
       "    <tr>\n",
       "      <th>2412</th>\n",
       "      <td>2020-01-29</td>\n",
       "      <td>575.690002</td>\n",
       "      <td>589.799988</td>\n",
       "      <td>567.429993</td>\n",
       "      <td>580.989990</td>\n",
       "      <td>580.989990</td>\n",
       "      <td>17801500</td>\n",
       "    </tr>\n",
       "    <tr>\n",
       "      <th>2413</th>\n",
       "      <td>2020-01-30</td>\n",
       "      <td>632.419983</td>\n",
       "      <td>650.880005</td>\n",
       "      <td>618.000000</td>\n",
       "      <td>640.809998</td>\n",
       "      <td>640.809998</td>\n",
       "      <td>29005700</td>\n",
       "    </tr>\n",
       "    <tr>\n",
       "      <th>2414</th>\n",
       "      <td>2020-01-31</td>\n",
       "      <td>640.000000</td>\n",
       "      <td>653.000000</td>\n",
       "      <td>632.520020</td>\n",
       "      <td>650.570007</td>\n",
       "      <td>650.570007</td>\n",
       "      <td>15719300</td>\n",
       "    </tr>\n",
       "    <tr>\n",
       "      <th>2415</th>\n",
       "      <td>2020-02-03</td>\n",
       "      <td>673.690002</td>\n",
       "      <td>786.140015</td>\n",
       "      <td>673.520020</td>\n",
       "      <td>780.000000</td>\n",
       "      <td>780.000000</td>\n",
       "      <td>47065000</td>\n",
       "    </tr>\n",
       "  </tbody>\n",
       "</table>\n",
       "<p>2416 rows × 7 columns</p>\n",
       "</div>"
      ],
      "text/plain": [
       "            Date        Open        High         Low       Close   Adj Close  \\\n",
       "0     2010-06-29   19.000000   25.000000   17.540001   23.889999   23.889999   \n",
       "1     2010-06-30   25.790001   30.420000   23.299999   23.830000   23.830000   \n",
       "2     2010-07-01   25.000000   25.920000   20.270000   21.959999   21.959999   \n",
       "3     2010-07-02   23.000000   23.100000   18.709999   19.200001   19.200001   \n",
       "4     2010-07-06   20.000000   20.000000   15.830000   16.110001   16.110001   \n",
       "...          ...         ...         ...         ...         ...         ...   \n",
       "2411  2020-01-28  568.489990  576.809998  558.080017  566.900024  566.900024   \n",
       "2412  2020-01-29  575.690002  589.799988  567.429993  580.989990  580.989990   \n",
       "2413  2020-01-30  632.419983  650.880005  618.000000  640.809998  640.809998   \n",
       "2414  2020-01-31  640.000000  653.000000  632.520020  650.570007  650.570007   \n",
       "2415  2020-02-03  673.690002  786.140015  673.520020  780.000000  780.000000   \n",
       "\n",
       "        Volume  \n",
       "0     18766300  \n",
       "1     17187100  \n",
       "2      8218800  \n",
       "3      5139800  \n",
       "4      6866900  \n",
       "...        ...  \n",
       "2411  11788500  \n",
       "2412  17801500  \n",
       "2413  29005700  \n",
       "2414  15719300  \n",
       "2415  47065000  \n",
       "\n",
       "[2416 rows x 7 columns]"
      ]
     },
     "execution_count": 119,
     "metadata": {},
     "output_type": "execute_result"
    }
   ],
   "source": [
    "df"
   ]
  },
  {
   "cell_type": "code",
   "execution_count": 120,
   "id": "5c7b05c8",
   "metadata": {},
   "outputs": [
    {
     "data": {
      "text/plain": [
       "Date         0\n",
       "Open         0\n",
       "High         0\n",
       "Low          0\n",
       "Close        0\n",
       "Adj Close    0\n",
       "Volume       0\n",
       "dtype: int64"
      ]
     },
     "execution_count": 120,
     "metadata": {},
     "output_type": "execute_result"
    }
   ],
   "source": [
    "#check for null values\n",
    "df.isnull().sum()"
   ]
  },
  {
   "cell_type": "code",
   "execution_count": 121,
   "id": "0d9d69f1",
   "metadata": {},
   "outputs": [],
   "source": [
    "df1=df.drop('Date', axis=1)"
   ]
  },
  {
   "cell_type": "code",
   "execution_count": 122,
   "id": "8e5693b1",
   "metadata": {},
   "outputs": [
    {
     "data": {
      "image/png": "[encoded data removed]",
      "text/plain": [
       "<Figure size 640x480 with 2 Axes>"
      ]
     },
     "metadata": {},
     "output_type": "display_data"
    }
   ],
   "source": [
    "corr_matrix = df1.corr()\n",
    "\n",
    "# Plot the correlation matrix\n",
    "sns.heatmap(corr_matrix, annot=True, cmap='coolwarm')\n",
    "plt.title('Correlation Matrix')\n",
    "plt.show()"
   ]
  },
  {
   "cell_type": "code",
   "execution_count": 123,
   "id": "c3cf6388",
   "metadata": {},
   "outputs": [],
   "source": [
    "# Extract the 'Close' column for prediction\n",
    "data = df[['Close']].values\n",
    "\n",
    "# Apply feature scaling using StandardScaler\n",
    "scaler = StandardScaler()\n",
    "scaled_data = scaler.fit_transform(data)\n",
    "\n",
    "# Split the data into training and testing sets\n",
    "train_size = int(len(scaled_data) * 0.7)\n",
    "train_data = scaled_data[:train_size]\n",
    "test_data = scaled_data[train_size:]"
   ]
  },
  {
   "cell_type": "code",
   "execution_count": 124,
   "id": "dbfc3132",
   "metadata": {},
   "outputs": [],
   "source": [
    "#create sequence of data \n",
    "def prepare_data(data, time_steps=1):\n",
    "    X, Y = [], []\n",
    "    for i in range(len(data) - time_steps):\n",
    "        X.append(data[i:(i + time_steps), 0])\n",
    "        Y.append(data[i + time_steps, 0])\n",
    "    return np.array(X), np.array(Y)\n",
    "\n",
    "time_steps = 5  # Number of previous time steps to consider\n",
    "X_train, y_train = prepare_data(train_data, time_steps)\n",
    "X_test, y_test = prepare_data(test_data, time_steps)\n",
    "\n",
    "# Reshape the input data for LSTM model\n",
    "X_train = np.reshape(X_train, (X_train.shape[0], X_train.shape[1], 1))\n",
    "X_test = np.reshape(X_test, (X_test.shape[0], X_test.shape[1], 1))\n"
   ]
  },
  {
   "cell_type": "code",
   "execution_count": 125,
   "id": "c2550b05",
   "metadata": {},
   "outputs": [
    {
     "name": "stdout",
     "output_type": "stream",
     "text": [
      "Epoch 1/10\n",
      "53/53 [==============================] - 4s 6ms/step - loss: 0.1718\n",
      "Epoch 2/10\n",
      "53/53 [==============================] - 0s 9ms/step - loss: 0.0042\n",
      "Epoch 3/10\n",
      "53/53 [==============================] - 0s 7ms/step - loss: 0.0038\n",
      "Epoch 4/10\n",
      "53/53 [==============================] - 0s 6ms/step - loss: 0.0037\n",
      "Epoch 5/10\n",
      "53/53 [==============================] - 0s 5ms/step - loss: 0.0037\n",
      "Epoch 6/10\n",
      "53/53 [==============================] - 0s 6ms/step - loss: 0.0037\n",
      "Epoch 7/10\n",
      "53/53 [==============================] - 0s 6ms/step - loss: 0.0037\n",
      "Epoch 8/10\n",
      "53/53 [==============================] - 0s 6ms/step - loss: 0.0036\n",
      "Epoch 9/10\n",
      "53/53 [==============================] - 0s 6ms/step - loss: 0.0036\n",
      "Epoch 10/10\n",
      "53/53 [==============================] - 0s 6ms/step - loss: 0.0036\n"
     ]
    },
    {
     "data": {
      "text/plain": [
       "<keras.callbacks.History at 0x136e8a19a90>"
      ]
     },
     "execution_count": 125,
     "metadata": {},
     "output_type": "execute_result"
    }
   ],
   "source": [
    "# Initialize and compile the LSTM model\n",
    "lstm_model = Sequential()\n",
    "lstm_model.add(LSTM(64, input_shape=(time_steps, 1)))\n",
    "lstm_model.add(Dense(1))\n",
    "lstm_model.compile(optimizer='adam', loss='mse')\n",
    "\n",
    "# Train the LSTM model\n",
    "lstm_model.fit(X_train, y_train, epochs=10, batch_size=32)\n"
   ]
  },
  {
   "cell_type": "code",
   "execution_count": 126,
   "id": "fe11b784",
   "metadata": {},
   "outputs": [
    {
     "name": "stdout",
     "output_type": "stream",
     "text": [
      "23/23 [==============================] - 1s 3ms/step\n"
     ]
    }
   ],
   "source": [
    "# Predict using LSTM model\n",
    "lstm_predictions = lstm_model.predict(X_test)\n",
    "\n",
    "# Inverse transform the predictions to get the actual closing prices\n",
    "lstm_predictions = scaler.inverse_transform(lstm_predictions)\n",
    "y_test = scaler.inverse_transform([y_test])\n",
    "\n",
    "# Flatten the predictions for plotting\n",
    "#lr_predictions = lr_predictions.flatten()\n",
    "lstm_predictions = lstm_predictions.flatten()\n",
    "y_test = y_test.flatten()\n"
   ]
  },
  {
   "cell_type": "code",
   "execution_count": 127,
   "id": "ca15e0fd",
   "metadata": {},
   "outputs": [],
   "source": [
    "#import library for computing the performance indicators\n",
    "from sklearn.metrics import mean_squared_error,mean_absolute_error,r2_score"
   ]
  },
  {
   "cell_type": "code",
   "execution_count": 128,
   "id": "83b04b0b",
   "metadata": {},
   "outputs": [
    {
     "data": {
      "text/plain": [
       "0.6138118342747256"
      ]
     },
     "execution_count": 128,
     "metadata": {},
     "output_type": "execute_result"
    }
   ],
   "source": [
    "#R squared\n",
    "r2=r2_score(y_test,lstm_predictions)\n",
    "r2"
   ]
  },
  {
   "cell_type": "code",
   "execution_count": 129,
   "id": "965be142",
   "metadata": {},
   "outputs": [
    {
     "data": {
      "text/plain": [
       "38.56880585281885"
      ]
     },
     "execution_count": 129,
     "metadata": {},
     "output_type": "execute_result"
    }
   ],
   "source": [
    "### Test Data RMSE\n",
    "import math\n",
    "math.sqrt(mean_squared_error(y_test,lstm_predictions))"
   ]
  },
  {
   "cell_type": "code",
   "execution_count": 130,
   "id": "8dff29ff",
   "metadata": {},
   "outputs": [
    {
     "data": {
      "text/plain": [
       "24.44826052035726"
      ]
     },
     "execution_count": 130,
     "metadata": {},
     "output_type": "execute_result"
    }
   ],
   "source": [
    "#Mean absolute error \n",
    "mae=mean_absolute_error(y_test,lstm_predictions)\n",
    "mae"
   ]
  },
  {
   "cell_type": "code",
   "execution_count": 131,
   "id": "5affbd8b",
   "metadata": {},
   "outputs": [
    {
     "name": "stdout",
     "output_type": "stream",
     "text": [
      "53/53 [==============================] - 0s 3ms/step\n"
     ]
    }
   ],
   "source": [
    "lstm_predictions_train = lstm_model.predict(X_train)"
   ]
  },
  {
   "cell_type": "code",
   "execution_count": 132,
   "id": "deac062c",
   "metadata": {},
   "outputs": [],
   "source": [
    "lstm_predictions_train=scaler.inverse_transform(lstm_predictions_train)"
   ]
  },
  {
   "cell_type": "code",
   "execution_count": 133,
   "id": "cea3aa59",
   "metadata": {},
   "outputs": [],
   "source": [
    "lstm_predictions_train = np.array(lstm_predictions_train)"
   ]
  },
  {
   "cell_type": "code",
   "execution_count": 134,
   "id": "6b4f2afd",
   "metadata": {},
   "outputs": [],
   "source": [
    "lstm_predictions_train=lstm_predictions_train.flatten()"
   ]
  },
  {
   "cell_type": "code",
   "execution_count": 135,
   "id": "e2f641f8",
   "metadata": {},
   "outputs": [],
   "source": [
    "train_pred=np.concatenate((lstm_predictions_train, lstm_predictions_train[-5:]))"
   ]
  },
  {
   "cell_type": "code",
   "execution_count": 136,
   "id": "25bb5832",
   "metadata": {},
   "outputs": [
    {
     "data": {
      "text/plain": [
       "array([ 21.721582,  20.162333,  18.616602, ..., 244.22774 , 244.84312 ,\n",
       "       246.36159 ], dtype=float32)"
      ]
     },
     "execution_count": 136,
     "metadata": {},
     "output_type": "execute_result"
    }
   ],
   "source": [
    "train_pred"
   ]
  },
  {
   "cell_type": "code",
   "execution_count": 137,
   "id": "e7d80312",
   "metadata": {},
   "outputs": [],
   "source": [
    "lstm_predictions=np.concatenate((lstm_predictions, lstm_predictions[-5:]))"
   ]
  },
  {
   "cell_type": "code",
   "execution_count": 138,
   "id": "a9f6fcd6",
   "metadata": {},
   "outputs": [],
   "source": [
    "predicted_closing_price=np.concatenate((train_pred,lstm_predictions))"
   ]
  },
  {
   "cell_type": "code",
   "execution_count": 139,
   "id": "70cd370c",
   "metadata": {},
   "outputs": [],
   "source": [
    "df['predicted_closing_price']=np.hstack([predicted_closing_price])"
   ]
  },
  {
   "cell_type": "code",
   "execution_count": 140,
   "id": "3332a5d0",
   "metadata": {},
   "outputs": [
    {
     "data": {
      "image/png": "[encoded data removed]",
      "text/plain": [
       "<Figure size 640x480 with 1 Axes>"
      ]
     },
     "metadata": {},
     "output_type": "display_data"
    }
   ],
   "source": [
    "import matplotlib.pyplot as plt\n",
    "import matplotlib.dates as mdates\n",
    "import matplotlib.ticker as ticker\n",
    "import numpy as np\n",
    "\n",
    "# Reduce the number of displayed dates\n",
    "subset_dates = df['Date'][::100]  # Display every 100th date\n",
    "\n",
    "# Convert subset dates to indices\n",
    "subset_indices = np.arange(len(df['Date']))[::100]\n",
    "\n",
    "plt.plot(df['Date'], df['Close'], color='r', label='Tesla Closing price w.r.t time')\n",
    "plt.plot(df['Date'], df['predicted_closing_price'], color='green', label='Predicted Tesla Closing price w.r.t time')\n",
    "\n",
    "plt.title('Actual Vs Predicted Tesla Closing price')\n",
    "plt.xlabel('Date')\n",
    "plt.ylabel('Closing Price in $')\n",
    "\n",
    "# Rotate the date labels\n",
    "plt.xticks(rotation=45)\n",
    "\n",
    "# Set the x-axis to display only the subset of dates\n",
    "plt.gca().xaxis.set_major_locator(ticker.FixedLocator(subset_indices))\n",
    "plt.gca().xaxis.set_major_formatter(mdates.DateFormatter('%Y-%m-%d'))  # Customize the date format if needed\n",
    "\n",
    "plt.legend()\n",
    "plt.tight_layout()\n",
    "plt.show()\n"
   ]
  },
  {
   "cell_type": "code",
   "execution_count": null,
   "id": "9607a623",
   "metadata": {},
   "outputs": [],
   "source": []
  },
  {
   "cell_type": "code",
   "execution_count": null,
   "id": "1fa833b7",
   "metadata": {},
   "outputs": [],
   "source": []
  },
  {
   "cell_type": "code",
   "execution_count": null,
   "id": "bd321c21",
   "metadata": {},
   "outputs": [],
   "source": []
  },
  {
   "cell_type": "code",
   "execution_count": null,
   "id": "91ad2a56",
   "metadata": {},
   "outputs": [],
   "source": []
  },
  {
   "cell_type": "code",
   "execution_count": null,
   "id": "0cab427b",
   "metadata": {},
   "outputs": [],
   "source": []
  },
  {
   "cell_type": "code",
   "execution_count": null,
   "id": "a3ee886c",
   "metadata": {},
   "outputs": [],
   "source": []
  },
  {
   "cell_type": "code",
   "execution_count": null,
   "id": "7ce51008",
   "metadata": {},
   "outputs": [],
   "source": []
  }
 ],
 "metadata": {
  "kernelspec": {
   "display_name": "Python (EV)",
   "language": "python",
   "name": "ev"
  },
  "language_info": {
   "codemirror_mode": {
    "name": "ipython",
    "version": 3
   },
   "file_extension": ".py",
   "mimetype": "text/x-python",
   "name": "python",
   "nbconvert_exporter": "python",
   "pygments_lexer": "ipython3",
   "version": "3.11.3"
  }
 },
 "nbformat": 4,
 "nbformat_minor": 5
}
